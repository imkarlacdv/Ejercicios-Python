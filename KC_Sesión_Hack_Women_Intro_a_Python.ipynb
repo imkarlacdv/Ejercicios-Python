{
  "nbformat": 4,
  "nbformat_minor": 0,
  "metadata": {
    "colab": {
      "name": "KC-Sesión Hack Women- Intro a Python",
      "provenance": [],
      "collapsed_sections": [],
      "include_colab_link": true
    },
    "kernelspec": {
      "name": "python3",
      "display_name": "Python 3"
    }
  },
  "cells": [
    {
      "cell_type": "markdown",
      "metadata": {
        "id": "view-in-github",
        "colab_type": "text"
      },
      "source": [
        "<a href=\"https://colab.research.google.com/github/imkarlacdv/Ejercicios-Python/blob/main/KC_Sesi%C3%B3n_Hack_Women_Intro_a_Python.ipynb\" target=\"_parent\"><img src=\"https://colab.research.google.com/assets/colab-badge.svg\" alt=\"Open In Colab\"/></a>"
      ]
    },
    {
      "cell_type": "markdown",
      "metadata": {
        "id": "OpSHrtcJLQEU"
      },
      "source": [
        "# Introducción a Python\n",
        "\n",
        "A lo largo de este cuaderno explicaremos algunos conceptos básicos de Python. Los temas específicos que cubriremos en estos cuadernos introductorios son los siguientes:\n",
        "\n",
        "1. ¿Qué es Python?\n",
        "2. Objetos avanzados: _Listas_ y _diccionarios_\n",
        "3. Empaquetando código - _Funciones_\n",
        "\n",
        "### Planteamiento del problema:\n",
        "\n",
        "Imagina que queremos crear un directorio que contenga toda la información de los estudiantes de nuestro club. Para ello, necesitaremos construir paso a paso la idea completa del proyecto.\n",
        "\n",
        "Para ello, necesitamos saber sobre tipos de variables, objetos avanzados como listas y diccionarios, cómo crear funciones para operar algunos valores y cómo crear nuevos objetos.\n",
        "\n",
        "\n",
        "## ¿Qué es Python?\n",
        "\n",
        "<center>\n",
        "    <img width=\"50%\" src=\"https://www.python.org/static/community_logos/python-logo-generic.svg\">\n",
        "</center>\n",
        "\n",
        "Python es un lenguaje de programación **interpretado**, lo que significa que un _interpretador_ ejecuta y ejecuta su código línea por línea en lugar de compilarlo. Python tiene una sintaxis elegante que te obliga a **aplicar sangría a tu código para construir bloques de código**, por lo que Python no usa `{}` para bloques de código. No es común usar punto y coma en Python (`;`) al final de cualquier oración. Otra cosa interesante de Python es que no necesita declarar variables, solo las define, y sucede que Python **se escribe dinámicamente**.\n",
        "\n",
        "### Hola mundo en Python\n",
        "\n",
        "Usaremos las funciones de entrada y salida de Python para crear nuestro primer hola mundo.\n",
        "\n",
        "Solo necesita ejecutar la siguiente celda con código presionando el botón _play_ o presionando `Shift + Enter` en su teclado."
      ]
    },
    {
      "cell_type": "markdown",
      "metadata": {
        "id": "RSJW87sPXOAh"
      },
      "source": [
        "## Variables\n",
        "\n",
        "Python tiene varios tipos de variables de forma nativa. Comenzando con variables numéricas, Python puede trabajar con números enteros, números flotantes y números complejos. También cuenta con cadenas de caracteres para trabajar con texto y otro tipo de variables llamadas booleanos para guardar valores binarios.\n",
        "\n",
        "La forma en que declaramos las variables es la siguiente:\n",
        "\n",
        "```python\n",
        "variable_name = <value>\n",
        "```\n",
        "\n",
        "El nombre de una variable no puede tener espacios, debe comenzar con una letra, puede contener letras mayúsculas o números dentro del nombre.\n",
        "\n",
        "#### Ejemplo:\n",
        "\n",
        "```python\n",
        "my_dog = \"Mirlo\"\n",
        "```\n",
        "\n",
        "Para obtener el tipo de una variable, podemos usar la función `type ()` y pasar como parámetro la variable que queremos conocer.\n",
        "\n",
        "#### Ejemplo:\n",
        "\n",
        "```python\n",
        "type(my_dog)\n",
        "```"
      ]
    },
    {
      "cell_type": "markdown",
      "metadata": {
        "id": "nlMAcIGEYIef"
      },
      "source": [
        "Hay varios tipos de variables, ¡incluso números complejos en Python!\n",
        "\n",
        "#### Ejercicio:\n",
        "\n",
        "Define e imprime el tipo y valor de las variables denominadas:\n",
        "- `name`, debe ser un` <str> `que contenga cualquier nombre\n",
        "- `age`, debe ser un` <int> `que contenga cualquier edad\n",
        "- `pi`, debe ser un` <float> `que contenga su mejor aproximación a pi\n",
        "- `modulus_one`, debe ser un `<complex>`que tiene [módulo](https://en.wikipedia.org/wiki/Absolute_value#Complex_numbers) uno"
      ]
    },
    {
      "cell_type": "markdown",
      "metadata": {
        "id": "U_cKNLU3YnP8"
      },
      "source": [
        "## Control de flujo (condicionales)\n",
        "\n",
        "Hasta ahora, sabemos cómo definir variables, por lo que podemos crear bloques de código un poco más avanzados. Lo primero que queremos hacer es crear una nueva variable llamada `under_age` y necesitaremos definirla usando una declaración contitional. Para ello, será útil recordar los operadores de comparación (`<, >, <=, >=, ==, !=`).\n",
        "\n",
        "La idea es la siguiente, si la persona es menor de edad, el valor de esta variable será \"Verdadero\" y será \"Falso\" en el otro caso.\n",
        "\n",
        "Para declarar una declaración condicional, se usa la siguiente sintaxis:\n",
        "\n",
        "```python\n",
        "if condition:\n",
        "    # Block of code for a satisfied condition \n",
        "else:\n",
        "    # Block of code for a non-satisfied condition \n",
        "```\n",
        "\n",
        "#### Ejemplo:\n"
      ]
    },
    {
      "cell_type": "code",
      "metadata": {
        "id": "9oJook66anxJ"
      },
      "source": [
        "dog_color = \"black\"\n",
        "if color == \"black\":\n",
        "    print(\"Indeed, this dog is black.\")\n",
        "else:\n",
        "    print(\"Nope, it is not a black dog.\")"
      ],
      "execution_count": null,
      "outputs": []
    },
    {
      "cell_type": "markdown",
      "metadata": {
        "id": "hkoa6UOarhBD"
      },
      "source": [
        "## Bucles (ciclos)\n",
        "\n",
        "**Iteración** significa ejecutar el mismo bloque de código una y otra vez, potencialmente muchas veces. Una estructura de programación que implementa la iteración se llama **bucle** (o **ciclo**).\n",
        "\n",
        "Hay dos tipos de iteración:\n",
        "- **Iteración definida**, en la que el número de repeticiones se especifica explícitamente de antemano\n",
        "- **Iteración indefinida**, en la que el bloque de código se ejecuta hasta que se cumple alguna condición\n",
        "\n",
        "En Python, la iteración indefinida se realiza con un ciclo `while` y la iteración definida se realiza con un ciclo `for`.\n",
        "\n",
        "### Ciclo `while`\n",
        "\n",
        "Para un ciclo `while` será importante **establecer una condición de parada**. El formato de un ciclo `while` se muestra a continuación:\n",
        "\n",
        "```python\n",
        "while condition:\n",
        "    # Code goes ehre!\n",
        "```\n",
        "\n",
        "#### Ejemplo:\n"
      ]
    },
    {
      "cell_type": "code",
      "metadata": {
        "id": "SSnssdYwqI_G"
      },
      "source": [
        "n_interation = 1\n",
        "\n",
        "while n_iteration <= 10:\n",
        "    print(f\"Iteration {n_iteration}.\")"
      ],
      "execution_count": null,
      "outputs": []
    },
    {
      "cell_type": "markdown",
      "metadata": {
        "id": "xJFl2lQ1qJak"
      },
      "source": [
        "### Ciclo `for`\n",
        "\n",
        "Python tiene un **ciclo basado en colecciones** o **ciclo basado en iteradores**. Este tipo de bucle itera sobre una colección de objetos, en lugar de especificar valores numéricos o condiciones:\n",
        "\n",
        "```python\n",
        "for i in <collection>:\n",
        "    <loop body>\n",
        "```\n",
        "\n",
        "#### Ejemplo:\n",
        "\n",
        "Podemos iterar a través de los elementos de una lista:\n"
      ]
    },
    {
      "cell_type": "code",
      "metadata": {
        "id": "RFk0YLulqOQW"
      },
      "source": [
        "months = [\n",
        "    'January',\n",
        "    'February',\n",
        "    'March',\n",
        "    'April',\n",
        "    'May',\n",
        "    'June',\n",
        "    'July',\n",
        "    'August',\n",
        "    'September',\n",
        "    'October',\n",
        "    'November',\n",
        "    'December',\n",
        "]\n",
        "\n",
        "for month in months:\n",
        "    print(f\"The current month is {month}.\")"
      ],
      "execution_count": null,
      "outputs": []
    },
    {
      "cell_type": "markdown",
      "metadata": {
        "id": "OHMgj3aavIqc"
      },
      "source": [
        "O iterar solo a través de un rango de números:"
      ]
    },
    {
      "cell_type": "code",
      "metadata": {
        "id": "nevHbKcsvIBa"
      },
      "source": [
        "for number in range(10):\n",
        "    print(f\"The current number is {number}.\")"
      ],
      "execution_count": null,
      "outputs": []
    },
    {
      "cell_type": "markdown",
      "metadata": {
        "id": "7Ko9pJ0_vrnb"
      },
      "source": [
        "**Nota:** *¿Todo esto aplica para las tuplas?*\n"
      ]
    },
    {
      "cell_type": "markdown",
      "metadata": {
        "id": "DZOOUM4jrn5O"
      },
      "source": [
        "## Diccionarios\n",
        "\n",
        "Python proporciona otro tipo de datos compuestos llamado **diccionario**, que es similar a una lista en que es una colección de objetos.\n",
        "\n",
        "Los diccionarios son diferentes de las listas principalmente por cómo acceder a sus elementos:\n",
        "\n",
        "- Se accede a los elementos de la lista por su posición en la lista, mediante indexación.\n",
        "- Se accede a los elementos del diccionario mediante llaves o claves (pares clave-valor)."
      ]
    },
    {
      "cell_type": "code",
      "metadata": {
        "id": "FNo_LTSuzEvk"
      },
      "source": [
        "student = {\n",
        "    \"name\": \"Jesús López\",\n",
        "    \"email\": \"algo@gmail.com\"\n",
        "}"
      ],
      "execution_count": null,
      "outputs": []
    },
    {
      "cell_type": "code",
      "source": [
        "student[\"email\"]"
      ],
      "metadata": {
        "colab": {
          "base_uri": "https://localhost:8080/",
          "height": 35
        },
        "id": "qOSwHn8W9EtI",
        "outputId": "b857a313-e26b-4884-8a75-02f94e9c78bb"
      },
      "execution_count": null,
      "outputs": [
        {
          "output_type": "execute_result",
          "data": {
            "text/plain": [
              "'algo@gmail.com'"
            ],
            "application/vnd.google.colaboratory.intrinsic+json": {
              "type": "string"
            }
          },
          "metadata": {},
          "execution_count": 4
        }
      ]
    },
    {
      "cell_type": "code",
      "source": [
        "student[\"age\"] = 23"
      ],
      "metadata": {
        "id": "k-635mMP-lZ3"
      },
      "execution_count": null,
      "outputs": []
    },
    {
      "cell_type": "code",
      "source": [
        "print(student)"
      ],
      "metadata": {
        "colab": {
          "base_uri": "https://localhost:8080/"
        },
        "id": "KBpfG5Ub-v71",
        "outputId": "34d815ce-a85d-4b75-a796-55b0efb45aa2"
      },
      "execution_count": null,
      "outputs": [
        {
          "output_type": "stream",
          "name": "stdout",
          "text": [
            "{'name': 'Jesús López', 'email': 'algo@gmail.com', 'age': 23}\n"
          ]
        }
      ]
    },
    {
      "cell_type": "code",
      "source": [
        "student.keys()"
      ],
      "metadata": {
        "colab": {
          "base_uri": "https://localhost:8080/"
        },
        "id": "HsCD4cHm_Gt8",
        "outputId": "1a6c2ebb-c163-468d-a9a7-92d2d05957c9"
      },
      "execution_count": null,
      "outputs": [
        {
          "output_type": "execute_result",
          "data": {
            "text/plain": [
              "dict_keys(['name', 'email', 'age'])"
            ]
          },
          "metadata": {},
          "execution_count": 7
        }
      ]
    },
    {
      "cell_type": "code",
      "source": [
        "for key in student.keys():\n",
        "  print(student[key])"
      ],
      "metadata": {
        "colab": {
          "base_uri": "https://localhost:8080/"
        },
        "id": "S0yYnmpJ_TUn",
        "outputId": "f115da3b-25ec-466d-8524-1d4bd4947cb1"
      },
      "execution_count": null,
      "outputs": [
        {
          "output_type": "stream",
          "name": "stdout",
          "text": [
            "Jesús López\n",
            "algo@gmail.com\n",
            "23\n"
          ]
        }
      ]
    },
    {
      "cell_type": "code",
      "source": [
        "student.values()"
      ],
      "metadata": {
        "colab": {
          "base_uri": "https://localhost:8080/"
        },
        "id": "PO8z3Bx-_rcc",
        "outputId": "3572be25-f64c-4dce-98ac-4a69a198452e"
      },
      "execution_count": null,
      "outputs": [
        {
          "output_type": "execute_result",
          "data": {
            "text/plain": [
              "dict_values(['Jesús López', 'algo@gmail.com', 23])"
            ]
          },
          "metadata": {},
          "execution_count": 10
        }
      ]
    },
    {
      "cell_type": "code",
      "source": [
        "student.items()"
      ],
      "metadata": {
        "colab": {
          "base_uri": "https://localhost:8080/"
        },
        "id": "4Up2RwtL_2gH",
        "outputId": "817fc384-8cb3-41fd-b498-b21afad9fbdc"
      },
      "execution_count": null,
      "outputs": [
        {
          "output_type": "execute_result",
          "data": {
            "text/plain": [
              "dict_items([('name', 'Jesús López'), ('email', 'algo@gmail.com'), ('age', 23)])"
            ]
          },
          "metadata": {},
          "execution_count": 11
        }
      ]
    },
    {
      "cell_type": "code",
      "source": [
        "for key, value in student.items():\n",
        "  print(key, value)"
      ],
      "metadata": {
        "colab": {
          "base_uri": "https://localhost:8080/"
        },
        "id": "6Blf3rueADxh",
        "outputId": "84af7acc-35d7-467c-987a-242ad0164e71"
      },
      "execution_count": null,
      "outputs": [
        {
          "output_type": "stream",
          "name": "stdout",
          "text": [
            "name Jesús López\n",
            "email algo@gmail.com\n",
            "age 23\n"
          ]
        }
      ]
    },
    {
      "cell_type": "markdown",
      "source": [
        "Hack Women"
      ],
      "metadata": {
        "id": "N6gu9q2g9GZP"
      }
    },
    {
      "cell_type": "markdown",
      "metadata": {
        "id": "i6I0b2UkzcJb"
      },
      "source": [
        "## Funciones\n",
        "\n",
        "Las funciones nos permitirán empaquetar código que puede ser invocado a través de una línea con el nombre de la función.\n",
        "\n",
        "La estructura básica de una función es como sigue:\n",
        "\n",
        "```python\n",
        "def name_of_function(arguments):\n",
        "    # Code of the function\n",
        "\n",
        "    return something\n",
        "```\n",
        "\n",
        "La nomenclatura de las funciones es consistente con la de las variables."
      ]
    },
    {
      "cell_type": "code",
      "metadata": {
        "id": "PZTz7Shhrs1M"
      },
      "source": [
        "# Implement the 2nd of the Newton's laws of motion\n",
        "\n",
        "def f(m, a):\n",
        "  fuerza = m * a\n",
        "  return fuerza"
      ],
      "execution_count": null,
      "outputs": []
    },
    {
      "cell_type": "code",
      "source": [
        ""
      ],
      "metadata": {
        "id": "bjXnR18rBd5X"
      },
      "execution_count": null,
      "outputs": []
    },
    {
      "cell_type": "code",
      "source": [
        "print(f\"{f(60,3)} N (Newton)\")"
      ],
      "metadata": {
        "colab": {
          "base_uri": "https://localhost:8080/"
        },
        "id": "p5ZJCB5OBQHs",
        "outputId": "f231c16f-654c-4b0d-929c-88b79faa6911"
      },
      "execution_count": null,
      "outputs": [
        {
          "output_type": "stream",
          "name": "stdout",
          "text": [
            "180 N (Newton)\n"
          ]
        }
      ]
    },
    {
      "cell_type": "code",
      "source": [
        "print(f\"{f(70,9.81)} N (Newton)\")"
      ],
      "metadata": {
        "colab": {
          "base_uri": "https://localhost:8080/"
        },
        "id": "YilJhpGgCoD-",
        "outputId": "92f69002-609d-4f14-ddec-368811ad4f59"
      },
      "execution_count": null,
      "outputs": [
        {
          "output_type": "stream",
          "name": "stdout",
          "text": [
            "686.7 N (Newton)\n"
          ]
        }
      ]
    },
    {
      "cell_type": "markdown",
      "source": [
        "#Ejemplo 1\n",
        "-  Procedimiento CalcularMaxMin: recibe una lista de enteros  y devuelve\n",
        "el máximo y el mínimo de los números guardados en el vector.\n",
        "Parámetros de entrada: lista de enteros\n",
        "Valores de salida: valor máximo y mínimo"
      ],
      "metadata": {
        "id": "w6i3aF0EzsbT"
      }
    },
    {
      "cell_type": "code",
      "source": [
        "# Ejemplo 1\n",
        "\n",
        "import random\n",
        "\n",
        "def CalcularMaxMin(list):\n",
        "  return (max(list), min(list))\n",
        "\n",
        "numeros = []\n",
        "\n",
        "for i in range(10):\n",
        "  numeros.append(random.randint(1,101))\n",
        "vmax, vmin = CalcularMaxMin(numeros)\n",
        "print(\"El valor máximo es: \", vmax)\n",
        "print(\"El valor mínimo es: \", vmin)\n"
      ],
      "metadata": {
        "id": "erZUUm7pw7qc",
        "colab": {
          "base_uri": "https://localhost:8080/"
        },
        "outputId": "403c55c5-7ac3-4bde-a8dc-a50a31e9c465"
      },
      "execution_count": null,
      "outputs": [
        {
          "output_type": "stream",
          "name": "stdout",
          "text": [
            "El valor máximo es:  97\n",
            "El valor mínimo es:  4\n"
          ]
        }
      ]
    },
    {
      "cell_type": "markdown",
      "source": [
        "#Ejemplo 2\n",
        "\n",
        "- Función CalcularAreaPerimetro: recibe el radio de una circunferencia y\n",
        "devuelve el área y el perímetro.\n",
        "Parámetros de entrada: radio (real)\n",
        "Valores de salida: área y perímetro (real)"
      ],
      "metadata": {
        "id": "xKZM-l4F0AEr"
      }
    },
    {
      "cell_type": "code",
      "source": [
        "# Ejemplo 2\n",
        "import math\n",
        "\n",
        "def CalcularAreaPerimetro(radio):\n",
        "  area = math.pi * radio ** 2\n",
        "  perimetro = 2 * math.pi * radio\n",
        "  return area, perimetro\n",
        "\n",
        "radio = float(input(\"Introduce el radio: \"))\n",
        "area, perimetro = CalcularAreaPerimetro(radio)\n",
        "print(\"Area: \", area)\n",
        "print(\"Perímetro: \", perimetro)\n"
      ],
      "metadata": {
        "id": "jnCZxGp0wecv",
        "colab": {
          "base_uri": "https://localhost:8080/"
        },
        "outputId": "83a058bd-a1e2-4b5a-ab91-aaabc3c91982"
      },
      "execution_count": null,
      "outputs": [
        {
          "output_type": "stream",
          "name": "stdout",
          "text": [
            "Introduce el radio: 3\n",
            "Area:  28.274333882308138\n",
            "Perímetro:  18.84955592153876\n"
          ]
        }
      ]
    },
    {
      "cell_type": "markdown",
      "source": [
        "# Ejemplo 3\n",
        "\n",
        "- Función centrar: Recibe una cadena y la imprime centrada en la pantalla."
      ],
      "metadata": {
        "id": "u0XxKuyQ0Qeg"
      }
    },
    {
      "cell_type": "code",
      "source": [
        "#Ejemplo 3\n",
        "def centrar (cad):\n",
        "  print(\" \" * int(40 - (len(cad)/2)), cad)\n",
        "  print(\" \" * int(40 - (len(cad)/2)),\"=\" * len(cad))\n",
        "\n",
        "mensaje1= \"Hack Women\"\n",
        "centrar(mensaje1)\n",
        "mensaje2= \"SKILLS FOR WOMEN IN TECH\"\n",
        "centrar(mensaje2)"
      ],
      "metadata": {
        "id": "iDD9RDGNtrGk",
        "colab": {
          "base_uri": "https://localhost:8080/"
        },
        "outputId": "a4d30060-4f40-45cc-e761-f0dd45a3330c"
      },
      "execution_count": null,
      "outputs": [
        {
          "output_type": "stream",
          "name": "stdout",
          "text": [
            "                                    Hack Women\n",
            "                                    ==========\n",
            "                             SKILLS FOR WOMEN IN TECH\n",
            "                             ========================\n"
          ]
        }
      ]
    },
    {
      "cell_type": "markdown",
      "source": [
        "# Ejemplo 4\n",
        "\n",
        "- Función Convertir a  segundos: Recibe una cantidad de horas, minutos y segundos y calcula a cuantos segundos corresponde."
      ],
      "metadata": {
        "id": "qqg4K8rc0gjL"
      }
    },
    {
      "cell_type": "code",
      "source": [
        "# Ejemplo 4\n",
        "\n",
        "def Convertir_A_Segundos(h, m, s):\n",
        "  return h * 3600 + m * 60 + s\n",
        "\n",
        "def Convertir_A_HMS(seg):\n",
        "  h = seg // 3600\n",
        "  s = seg - h * 3600\n",
        "  m = seg // 60\n",
        "  seg = seg - m * 60\n",
        "  s = seg\n",
        "  return h,m,s \n",
        "\n",
        "while True: \n",
        "  print(\"1. Convertir a segundos\")\n",
        "  print(\"2. Convertir a horas, minutos y segundos\")\n",
        "  print(\"3. Salir\")\n",
        "\n",
        "  opcion = int(input())\n",
        "  if opcion == 1:\n",
        "    hor = int(input(\"Horas: \"))\n",
        "    min = int(input(\"Minutos: \"))\n",
        "    seg = int(input(\"Segundos: \"))\n",
        "    print (\"Corresponde a\" , Convertir_A_Segundos(hor, min, seg), \"segundos.\")\n",
        "  elif opcion == 2:\n",
        "    segund = int(input(\"Segundos:\"))\n",
        "    hor, min, seg = Convertir_A_HMS(segund)\n",
        "    print(\"Corresponde a\", hor, \":\", min, \":\", seg)\n",
        "  elif opcion == 3:\n",
        "    break\n",
        "  else:\n",
        "    print(\"Opción incorrecta\")"
      ],
      "metadata": {
        "id": "1Nmk9-iS0gCg",
        "colab": {
          "base_uri": "https://localhost:8080/"
        },
        "outputId": "79b7cee7-0d94-4c91-b078-6c82cb60662f"
      },
      "execution_count": null,
      "outputs": [
        {
          "name": "stdout",
          "output_type": "stream",
          "text": [
            "1. Convertir a segundos\n",
            "2. Convertir a horas, minutos y segundos\n",
            "3. Salir\n",
            "1\n",
            "Horas: 3\n",
            "Minutos: 40\n",
            "Segundos: 10\n",
            "Corresponde a 13210 segundos.\n",
            "1. Convertir a segundos\n",
            "2. Convertir a horas, minutos y segundos\n",
            "3. Salir\n",
            "2\n",
            "Segundos:70\n",
            "Corresponde a 0 : 1 : 10\n",
            "1. Convertir a segundos\n",
            "2. Convertir a horas, minutos y segundos\n",
            "3. Salir\n",
            "3\n"
          ]
        }
      ]
    },
    {
      "cell_type": "markdown",
      "source": [
        "# Ejemplo 5\n",
        "\n",
        "- Función ValidarFecha: Recibe un día, mes y año correspondiente a una fecha y  devuelve si la fecha es correcta o no.\n",
        "Simplemente miramos si el día indicado es mayor que 1 y menor que los días del mes. Si introducimos un mes incorrecto, la función DiasDelMes devuelve 0 por lo tanto la fecha va a ser incorrecta.\n",
        "Parámetros de entrada: día, mes y año\n",
        "-  Dato devuelto: Valor lógico indicando si es correcta (Verdadero) o no (Falso)"
      ],
      "metadata": {
        "id": "8QeHRDNa1C3n"
      }
    },
    {
      "cell_type": "code",
      "source": [
        "#Ejemplo 5\n",
        "\n",
        "def ValidarFecha (d,m,a):\n",
        "  if m == 0 or m >= 13:\n",
        "    print(\"La fecha es incorrecta\")\n",
        "\n",
        "  elif m == 1 or 2 or 3 or 4 or 5 or 6 or 7 or 8 or 9 or 10 or 11 or 12:\n",
        "    if d == 0 or d >= 32:\n",
        "      print(\"La fecha es incorrecta\")\n",
        "    else:\n",
        "      print(\"La fecha es correcta\")\n",
        "\n",
        "d = int(input(\"Día: \"))\n",
        "m = int(input(\"Mes: \"))\n",
        "a = int(input(\"Año: \"))\n",
        "\n",
        "ValidarFecha(d,m,a)\n",
        "\n"
      ],
      "metadata": {
        "id": "ejA6sUme1bS2",
        "colab": {
          "base_uri": "https://localhost:8080/"
        },
        "outputId": "d5cc0bef-0717-45b8-e2c4-a81c16c4b1e0"
      },
      "execution_count": null,
      "outputs": [
        {
          "output_type": "stream",
          "name": "stdout",
          "text": [
            "Día: 29\n",
            "Mes: 13\n",
            "Año: 1993\n",
            "La fecha es incorrecta\n"
          ]
        }
      ]
    },
    {
      "cell_type": "markdown",
      "metadata": {
        "id": "w7DrerwS1zd_"
      },
      "source": [
        "## ¡A resolver el reto!\n",
        "\n",
        "Vamos a prodecer a crear una lista de diccionarios, esto es, un directorio de estudiantes de SKILLS FOR WOMEN IN TECH que participarán en una edición en línea.\n",
        "\n",
        "Cada estudiante debe tener los siguientes atributos:\n",
        "- Nombre <str>\n",
        "- Edad <int>\n",
        "- Temas <lista>\n",
        "- Menores de edad <bool>\n",
        "\n",
        "Puedes asignar los datos a mano o utilizar funciones aleatorias para llenar los campos."
      ]
    },
    {
      "cell_type": "code",
      "metadata": {
        "id": "SVynPZKD2RAm",
        "colab": {
          "base_uri": "https://localhost:8080/"
        },
        "outputId": "0edad779-4e10-4941-beba-0b3e38a8d5fd"
      },
      "source": [
        "# All your code goes here!!!\n",
        "\n",
        "import random\n",
        "\n",
        "lst = [{'Nombre':\"Karla\", 'Edad':\"28\", 'Tema':\"Javascript\"},\n",
        "       {'Nombre':\"Frida\", 'Edad':\"26\", 'Tema':\"BBDD\"},\n",
        "       {'Nombre':\"Claudia\", 'Edad':\"32\", 'Tema':\"Java\"},\n",
        "       {'Nombre':\"Angie\", 'Edad':\"16\", 'Tema':\"Python\"},\n",
        "       {'Nombre':\"Amanda\", 'Edad':\"17\", 'Tema':\"Agile\"},]\n",
        "\n",
        "print(random.choice(lst))\n",
        "\n",
        "if random.choice('Edad'):\n",
        "  print(\"Es mayor de edad\")\n",
        "else:\n",
        "  print(\"Es menor de edad\")\n",
        "\n"
      ],
      "execution_count": 206,
      "outputs": [
        {
          "output_type": "stream",
          "name": "stdout",
          "text": [
            "{'Nombre': 'Claudia', 'Edad': '32', 'Tema': 'Java'}\n",
            "Es mayor de edad\n"
          ]
        }
      ]
    },
    {
      "cell_type": "markdown",
      "metadata": {
        "id": "efpB7jYb3hQj"
      },
      "source": [
        "--------\n",
        "\n",
        "> Contenido creado por **Jesús López**  2022. <br>\n",
        "> Contacto: [@jalopez_garcia](https://www.instagram.com/jalopez_garcia/) & [@jalopez_garcia](https://twitter.com/jalopez_garcia)"
      ]
    }
  ]
}